{
 "cells": [
  {
   "cell_type": "code",
   "execution_count": 1,
   "id": "8e2ea4e4-fda4-4b9c-b389-be5e1b2c4435",
   "metadata": {},
   "outputs": [],
   "source": [
    "import requests\n",
    "from bs4 import BeautifulSoup\n",
    "from twilio.rest import Client\n",
    "\n",
    "ACCOUNT_SID='AC48502b4b2305275af8d653d8f3bc2ad5'\n",
    "AUTH_TOKEN='2bcd456382adaf6085a3b4c9f8453db4'\n",
    "\n",
    "\n",
    "def get_score():\n",
    "    url = 'https://www.cricbuzz.com/cricket-match/live-scores'\n",
    "    res = requests.get(url)\n",
    "    soup = BeautifulSoup(res.content, 'lxml')\n",
    "    match_blocks = soup.find_all('div', class_='cb-mtch-lst cb-col cb-col-100 cb-tms-itm')\n",
    "\n",
    "    for match in match_blocks:  \n",
    "        try:\n",
    "            match_link = 'https://www.cricbuzz.com' + match.find('h3', class_='cb-lv-scr-mtch-hdr').find('a')['href']\n",
    "            match_id=match_link.split('/')[4]\n",
    "            cricbuzz_api=f'https://www.cricbuzz.com/api/cricket-match/commentary/{match_id}'\n",
    "            res=requests.get(cricbuzz_api)\n",
    "            commentary=res.json()['commentaryList']\n",
    "            for comm in commentary:\n",
    "                try:\n",
    "                    score=comm['overSeparator']['score']\n",
    "                    wickets=comm['overSeparator']['wickets']\n",
    "                    summary=comm['overSeparator']['o_summary']\n",
    "                    over=comm['overNumber']\n",
    "                    batteam=comm['batTeamName']\n",
    "                    break\n",
    "                except:\n",
    "                    score=wickets=summary=over=batteam=None\n",
    "            result=f'{batteam} {score}/{wickets} ({over})      This Over:{summary}'\n",
    "            return result,over\n",
    "\n",
    "        except Exception as e:\n",
    "            print(f\"Error parsing match: {e}\")\n",
    "    return\n",
    "\n",
    "def send_message(message,over):\n",
    "    if str(over)[-1]=='6':\n",
    "        client=Client(ACCOUNT_SID,AUTH_TOKEN)\n",
    "        client.messages.create(from_='whatsapp:+14155238886',to='whatsapp:+94772153646',body=message)\n",
    "\n",
    "def main():\n",
    "    result=get_score()\n",
    "    if result:\n",
    "        message,over=result\n",
    "        send_message(message,over)\n",
    "\n",
    "main()\n"
   ]
  },
  {
   "cell_type": "code",
   "execution_count": null,
   "id": "893d6673-9ffc-430a-ba89-50f244090d6a",
   "metadata": {},
   "outputs": [],
   "source": []
  }
 ],
 "metadata": {
  "kernelspec": {
   "display_name": "Python 3 (ipykernel)",
   "language": "python",
   "name": "python3"
  },
  "language_info": {
   "codemirror_mode": {
    "name": "ipython",
    "version": 3
   },
   "file_extension": ".py",
   "mimetype": "text/x-python",
   "name": "python",
   "nbconvert_exporter": "python",
   "pygments_lexer": "ipython3",
   "version": "3.13.3"
  }
 },
 "nbformat": 4,
 "nbformat_minor": 5
}
